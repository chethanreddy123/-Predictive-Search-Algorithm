{
 "cells": [
  {
   "cell_type": "code",
   "execution_count": 2,
   "id": "6e51d737",
   "metadata": {},
   "outputs": [],
   "source": [
    "import numpy as np\n",
    "np.random.seed(42)\n",
    "import tensorflow as tf\n",
    "tf.random.set_seed(42)\n",
    "from keras.models import Sequential, load_model\n",
    "from keras.layers import Dense, Activation\n",
    "from keras.layers import LSTM, Dropout\n",
    "from keras.layers import TimeDistributed\n",
    "from keras.layers.core import Dense, Activation, Dropout, RepeatVector\n",
    "from keras.optimizers import RMSprop\n",
    "import matplotlib.pyplot as plt\n",
    "import pickle\n",
    "import sys\n",
    "import heapq\n",
    "import seaborn as sns\n",
    "from pylab import rcParams\n",
    "\n",
    "%matplotlib inline\n",
    "\n",
    "sns.set(style='whitegrid', palette='muted', font_scale=1.5)\n",
    "\n",
    "rcParams['figure.figsize'] = 12, 5"
   ]
  },
  {
   "cell_type": "code",
   "execution_count": 14,
   "id": "b89dc680",
   "metadata": {},
   "outputs": [
    {
     "data": {
      "text/plain": [
       "['Abdominal pain',\n",
       " 'Abdominal redness',\n",
       " 'Abdominal swelling',\n",
       " 'Abnormal sweating',\n",
       " 'Acne',\n",
       " 'Allergy',\n",
       " 'Anal Fissure',\n",
       " 'Anal pain',\n",
       " 'Anemia',\n",
       " 'Anhedonia',\n",
       " 'Ankle pain',\n",
       " 'Anxiety',\n",
       " 'Appendicitis',\n",
       " 'Arm pain',\n",
       " 'Arm swelling',\n",
       " 'Arm weakness',\n",
       " 'Armpit pain',\n",
       " 'Armpit swelling',\n",
       " 'Attention deficit',\n",
       " 'Back pain',\n",
       " 'Bad breath',\n",
       " 'Bad or bitter taste',\n",
       " 'Black or tarry stool',\n",
       " 'Bladder Infection (UTI)',\n",
       " 'Blood in stool',\n",
       " 'Blood in urine',\n",
       " 'Blurry vision',\n",
       " 'Bronchitis',\n",
       " 'Bulging eye',\n",
       " 'Burning or painful urination',\n",
       " 'Buttocks pain',\n",
       " 'Calf pain',\n",
       " 'Calf swelling',\n",
       " 'Cheek pain',\n",
       " 'Cheek swelling',\n",
       " 'Chest pain',\n",
       " 'Chills',\n",
       " 'Confusion',\n",
       " 'Constipation',\n",
       " 'Cool bluish skin',\n",
       " 'Cough',\n",
       " 'COVID-19',\n",
       " 'Decreased appetite',\n",
       " 'Decreased hearing',\n",
       " 'Decreased urination',\n",
       " 'Decreased vision',\n",
       " 'Dental pain',\n",
       " 'Diarrhea',\n",
       " 'Difficulty urinating',\n",
       " 'Dizziness',\n",
       " 'Drooping eyelid',\n",
       " 'Dry mouth',\n",
       " 'Dry mucous membranes',\n",
       " 'Dry skin',\n",
       " 'Ear discharge',\n",
       " 'Ear pain',\n",
       " 'Ear pressure',\n",
       " 'Ear swelling',\n",
       " 'Elbow pain',\n",
       " 'Emotional stress',\n",
       " 'Erectile dysfunction',\n",
       " 'Excessive thirst',\n",
       " 'Excessive urination',\n",
       " 'Eye deviation',\n",
       " 'Eye discharge',\n",
       " 'Eye dryness',\n",
       " 'Eye floaters',\n",
       " 'Eye Infection',\n",
       " 'Eye pain',\n",
       " 'Eye redness',\n",
       " 'Eyelid pain',\n",
       " 'Eyelid redness',\n",
       " 'Eyelid swelling',\n",
       " 'Facial droop',\n",
       " 'Facial lesions',\n",
       " 'Facial numbness or tingling',\n",
       " 'Facial pain',\n",
       " 'Facial swelling',\n",
       " 'Fainting (passing out)',\n",
       " 'Fatigue',\n",
       " 'Feeling cold',\n",
       " 'Feeling down',\n",
       " 'Feeling faint',\n",
       " 'Fever',\n",
       " 'Finger discoloration',\n",
       " 'Finger pain',\n",
       " 'Flank pain',\n",
       " 'Flashing lights in vision',\n",
       " 'Flatulence',\n",
       " 'Food Poisoning',\n",
       " 'Foot fungus',\n",
       " 'Foot numbness or tingling',\n",
       " 'Foot pain',\n",
       " 'Foot redness',\n",
       " 'Foot sores',\n",
       " 'Foot swelling',\n",
       " 'Forearm pain',\n",
       " 'Foreign body in the eye',\n",
       " 'Frequent burping',\n",
       " 'Frequent night urination',\n",
       " 'Frequent urination',\n",
       " 'Gastroenteritis',\n",
       " 'Genital lesions',\n",
       " 'Goiter',\n",
       " 'Groin pain',\n",
       " 'Groin swelling',\n",
       " 'Hair loss',\n",
       " 'Hand numbness or tingling',\n",
       " 'Hand pain',\n",
       " 'Hand redness',\n",
       " 'Hand swelling',\n",
       " 'Headache',\n",
       " 'Heart palpitations']"
      ]
     },
     "execution_count": 14,
     "metadata": {},
     "output_type": "execute_result"
    }
   ],
   "source": [
    "path = 'data.txt'\n",
    "text = open(path)\n",
    "text = str(text.read())\n",
    "textList = exec(text)\n",
    "ListOfWords"
   ]
  },
  {
   "cell_type": "code",
   "execution_count": 15,
   "id": "95c31827",
   "metadata": {},
   "outputs": [
    {
     "name": "stdout",
     "output_type": "stream",
     "text": [
      "corpus length: 113\n"
     ]
    }
   ],
   "source": [
    "print('corpus length:', len(ListOfWords))"
   ]
  },
  {
   "cell_type": "code",
   "execution_count": 16,
   "id": "28527ada",
   "metadata": {},
   "outputs": [
    {
     "name": "stdout",
     "output_type": "stream",
     "text": [
      "unique chars: 53\n"
     ]
    }
   ],
   "source": [
    "chars = sorted(list(set(text)))\n",
    "char_indices = dict((c, i) for i, c in enumerate(chars))\n",
    "indices_char = dict((i, c) for i, c in enumerate(chars))\n",
    "\n",
    "print(f'unique chars: {len(chars)}')"
   ]
  },
  {
   "cell_type": "code",
   "execution_count": 17,
   "id": "2757369b",
   "metadata": {},
   "outputs": [
    {
     "name": "stdout",
     "output_type": "stream",
     "text": [
      "num training examples: 679\n"
     ]
    }
   ],
   "source": [
    "SEQUENCE_LENGTH = 40\n",
    "step = 3\n",
    "sentences = []\n",
    "next_chars = []\n",
    "for i in range(0, len(text) - SEQUENCE_LENGTH, step):\n",
    "    sentences.append(text[i: i + SEQUENCE_LENGTH])\n",
    "    next_chars.append(text[i + SEQUENCE_LENGTH])\n",
    "print(f'num training examples: {len(sentences)}')"
   ]
  },
  {
   "cell_type": "code",
   "execution_count": 18,
   "id": "34c7dc9c",
   "metadata": {},
   "outputs": [
    {
     "name": "stderr",
     "output_type": "stream",
     "text": [
      "C:\\Users\\hp\\AppData\\Local\\Temp\\ipykernel_10452\\293202360.py:1: DeprecationWarning: `np.bool` is a deprecated alias for the builtin `bool`. To silence this warning, use `bool` by itself. Doing this will not modify any behavior and is safe. If you specifically wanted the numpy scalar type, use `np.bool_` here.\n",
      "Deprecated in NumPy 1.20; for more details and guidance: https://numpy.org/devdocs/release/1.20.0-notes.html#deprecations\n",
      "  X = np.zeros((len(sentences), SEQUENCE_LENGTH, len(chars)), dtype=np.bool)\n",
      "C:\\Users\\hp\\AppData\\Local\\Temp\\ipykernel_10452\\293202360.py:2: DeprecationWarning: `np.bool` is a deprecated alias for the builtin `bool`. To silence this warning, use `bool` by itself. Doing this will not modify any behavior and is safe. If you specifically wanted the numpy scalar type, use `np.bool_` here.\n",
      "Deprecated in NumPy 1.20; for more details and guidance: https://numpy.org/devdocs/release/1.20.0-notes.html#deprecations\n",
      "  y = np.zeros((len(sentences), len(chars)), dtype=np.bool)\n"
     ]
    }
   ],
   "source": [
    "X = np.zeros((len(sentences), SEQUENCE_LENGTH, len(chars)), dtype=np.bool)\n",
    "y = np.zeros((len(sentences), len(chars)), dtype=np.bool)\n",
    "for i, sentence in enumerate(sentences):\n",
    "    for t, char in enumerate(sentence):\n",
    "        X[i, t, char_indices[char]] = 1\n",
    "    y[i, char_indices[next_chars[i]]] = 1"
   ]
  },
  {
   "cell_type": "code",
   "execution_count": 19,
   "id": "32dcfb73",
   "metadata": {},
   "outputs": [
    {
     "data": {
      "text/plain": [
       "\"g',\\n 'Attention deficit',\\n 'Back pain',\\n\""
      ]
     },
     "execution_count": 19,
     "metadata": {},
     "output_type": "execute_result"
    }
   ],
   "source": [
    "sentences[100]"
   ]
  },
  {
   "cell_type": "code",
   "execution_count": 20,
   "id": "b00d9f78",
   "metadata": {},
   "outputs": [
    {
     "data": {
      "text/plain": [
       "' '"
      ]
     },
     "execution_count": 20,
     "metadata": {},
     "output_type": "execute_result"
    }
   ],
   "source": [
    "next_chars[100]"
   ]
  },
  {
   "cell_type": "code",
   "execution_count": 21,
   "id": "11ee4b76",
   "metadata": {},
   "outputs": [],
   "source": [
    "model = Sequential()\n",
    "model.add(LSTM(128, input_shape=(SEQUENCE_LENGTH, len(chars))))\n",
    "model.add(Dense(len(chars)))\n",
    "model.add(Activation('softmax'))"
   ]
  },
  {
   "cell_type": "code",
   "execution_count": 22,
   "id": "3972f471",
   "metadata": {},
   "outputs": [
    {
     "name": "stderr",
     "output_type": "stream",
     "text": [
      "C:\\Users\\hp\\AppData\\Local\\Programs\\Python\\Python39\\lib\\site-packages\\keras\\optimizers\\optimizer_v2\\rmsprop.py:135: UserWarning: The `lr` argument is deprecated, use `learning_rate` instead.\n",
      "  super(RMSprop, self).__init__(name, **kwargs)\n"
     ]
    },
    {
     "name": "stdout",
     "output_type": "stream",
     "text": [
      "Epoch 1/20\n",
      "6/6 [==============================] - 5s 218ms/step - loss: 3.8867 - accuracy: 0.0884 - val_loss: 4.0011 - val_accuracy: 0.1176\n",
      "Epoch 2/20\n",
      "6/6 [==============================] - 1s 86ms/step - loss: 3.3285 - accuracy: 0.1287 - val_loss: 3.3844 - val_accuracy: 0.0588\n",
      "Epoch 3/20\n",
      "6/6 [==============================] - 1s 89ms/step - loss: 3.1042 - accuracy: 0.1938 - val_loss: 3.3597 - val_accuracy: 0.1176\n",
      "Epoch 4/20\n",
      "6/6 [==============================] - 1s 109ms/step - loss: 3.0387 - accuracy: 0.1860 - val_loss: 3.1234 - val_accuracy: 0.1765\n",
      "Epoch 5/20\n",
      "6/6 [==============================] - 1s 109ms/step - loss: 2.8708 - accuracy: 0.2667 - val_loss: 3.3912 - val_accuracy: 0.2353\n",
      "Epoch 6/20\n",
      "6/6 [==============================] - 1s 98ms/step - loss: 2.7254 - accuracy: 0.2930 - val_loss: 2.9183 - val_accuracy: 0.2647\n",
      "Epoch 7/20\n",
      "6/6 [==============================] - 1s 88ms/step - loss: 2.4554 - accuracy: 0.3752 - val_loss: 2.8740 - val_accuracy: 0.2647\n",
      "Epoch 8/20\n",
      "6/6 [==============================] - 1s 88ms/step - loss: 2.3715 - accuracy: 0.3752 - val_loss: 2.6296 - val_accuracy: 0.2941\n",
      "Epoch 9/20\n",
      "6/6 [==============================] - 1s 102ms/step - loss: 2.1506 - accuracy: 0.4047 - val_loss: 2.3950 - val_accuracy: 0.3235\n",
      "Epoch 10/20\n",
      "6/6 [==============================] - 1s 109ms/step - loss: 2.0250 - accuracy: 0.4295 - val_loss: 2.4418 - val_accuracy: 0.3529\n",
      "Epoch 11/20\n",
      "6/6 [==============================] - 1s 102ms/step - loss: 1.9729 - accuracy: 0.4419 - val_loss: 2.8134 - val_accuracy: 0.2353\n",
      "Epoch 12/20\n",
      "6/6 [==============================] - 1s 102ms/step - loss: 2.0453 - accuracy: 0.4078 - val_loss: 2.4150 - val_accuracy: 0.4118\n",
      "Epoch 13/20\n",
      "6/6 [==============================] - 1s 103ms/step - loss: 1.8346 - accuracy: 0.4791 - val_loss: 2.2527 - val_accuracy: 0.4412\n",
      "Epoch 14/20\n",
      "6/6 [==============================] - 1s 110ms/step - loss: 1.7320 - accuracy: 0.4713 - val_loss: 2.2574 - val_accuracy: 0.4706\n",
      "Epoch 15/20\n",
      "6/6 [==============================] - 1s 111ms/step - loss: 1.7005 - accuracy: 0.4806 - val_loss: 2.2739 - val_accuracy: 0.3824\n",
      "Epoch 16/20\n",
      "6/6 [==============================] - 1s 95ms/step - loss: 1.5906 - accuracy: 0.5225 - val_loss: 2.2908 - val_accuracy: 0.4706\n",
      "Epoch 17/20\n",
      "6/6 [==============================] - 1s 105ms/step - loss: 1.6458 - accuracy: 0.5070 - val_loss: 2.3553 - val_accuracy: 0.4118\n",
      "Epoch 18/20\n",
      "6/6 [==============================] - 1s 109ms/step - loss: 1.4836 - accuracy: 0.5333 - val_loss: 2.1364 - val_accuracy: 0.5294\n",
      "Epoch 19/20\n",
      "6/6 [==============================] - 1s 108ms/step - loss: 1.3902 - accuracy: 0.5566 - val_loss: 2.1960 - val_accuracy: 0.4412\n",
      "Epoch 20/20\n",
      "6/6 [==============================] - 1s 108ms/step - loss: 1.2920 - accuracy: 0.5938 - val_loss: 2.4124 - val_accuracy: 0.4118\n"
     ]
    }
   ],
   "source": [
    "optimizer = RMSprop(lr=0.01)\n",
    "model.compile(loss='categorical_crossentropy', optimizer=optimizer, metrics=['accuracy'])\n",
    "history = model.fit(X, y, validation_split=0.05, batch_size=128, epochs=20, shuffle=True).history"
   ]
  },
  {
   "cell_type": "code",
   "execution_count": 23,
   "id": "ed312655",
   "metadata": {},
   "outputs": [],
   "source": [
    "model.save('keras_model.h5')\n",
    "pickle.dump(history, open(\"history.p\", \"wb\"))"
   ]
  },
  {
   "cell_type": "code",
   "execution_count": 24,
   "id": "3bd70f56",
   "metadata": {},
   "outputs": [],
   "source": [
    "model = load_model('keras_model.h5')\n",
    "history = pickle.load(open(\"history.p\", \"rb\"))"
   ]
  },
  {
   "cell_type": "code",
   "execution_count": 29,
   "id": "cec943bc",
   "metadata": {},
   "outputs": [
    {
     "name": "stdout",
     "output_type": "stream",
     "text": [
      "Top ten words in the text are:['Abdominal pain', 'Abdominal redness', 'Abdominal swelling', 'Abnormal sweating', 'Acne', 'Allergy', 'Anal Fissure', 'Anal pain', 'Anemia', 'Anhedonia']\n",
      "Total Unique words are 113.\n"
     ]
    }
   ],
   "source": [
    "import pandas as pd\n",
    "import numpy as np\n",
    "import textdistance\n",
    "import re\n",
    "from collections import Counter\n",
    "words = []\n",
    "with open('data.txt', 'r') as f:\n",
    "    file_name_data = f.read()\n",
    "file_name_data = exec(file_name_data)\n",
    "V = set(ListOfWords)\n",
    "words = ListOfWords.copy()\n",
    "print(f\"Top ten words in the text are:{words[0:10]}\")\n",
    "print(f\"Total Unique words are {len(V)}.\")"
   ]
  },
  {
   "cell_type": "code",
   "execution_count": 30,
   "id": "c3aa55db",
   "metadata": {},
   "outputs": [
    {
     "name": "stdout",
     "output_type": "stream",
     "text": [
      "['Abdominal pain', 'Abdominal redness', 'Abdominal swelling', 'Abnormal sweating', 'Acne', 'Allergy', 'Anal Fissure', 'Anal pain', 'Anemia', 'Anhedonia', 'Ankle pain', 'Anxiety', 'Appendicitis', 'Arm pain', 'Arm swelling', 'Arm weakness', 'Armpit pain', 'Armpit swelling', 'Attention deficit', 'Back pain', 'Bad breath', 'Bad or bitter taste', 'Black or tarry stool', 'Bladder Infection (UTI)', 'Blood in stool', 'Blood in urine', 'Blurry vision', 'Bronchitis', 'Bulging eye', 'Burning or painful urination', 'Buttocks pain', 'Calf pain', 'Calf swelling', 'Cheek pain', 'Cheek swelling', 'Chest pain', 'Chills', 'Confusion', 'Constipation', 'Cool bluish skin', 'Cough', 'COVID-19', 'Decreased appetite', 'Decreased hearing', 'Decreased urination', 'Decreased vision', 'Dental pain', 'Diarrhea', 'Difficulty urinating', 'Dizziness', 'Drooping eyelid', 'Dry mouth', 'Dry mucous membranes', 'Dry skin', 'Ear discharge', 'Ear pain', 'Ear pressure', 'Ear swelling', 'Elbow pain', 'Emotional stress', 'Erectile dysfunction', 'Excessive thirst', 'Excessive urination', 'Eye deviation', 'Eye discharge', 'Eye dryness', 'Eye floaters', 'Eye Infection', 'Eye pain', 'Eye redness', 'Eyelid pain', 'Eyelid redness', 'Eyelid swelling', 'Facial droop', 'Facial lesions', 'Facial numbness or tingling', 'Facial pain', 'Facial swelling', 'Fainting (passing out)', 'Fatigue', 'Feeling cold', 'Feeling down', 'Feeling faint', 'Fever', 'Finger discoloration', 'Finger pain', 'Flank pain', 'Flashing lights in vision', 'Flatulence', 'Food Poisoning', 'Foot fungus', 'Foot numbness or tingling', 'Foot pain', 'Foot redness', 'Foot sores', 'Foot swelling', 'Forearm pain', 'Foreign body in the eye', 'Frequent burping', 'Frequent night urination', 'Frequent urination', 'Gastroenteritis', 'Genital lesions', 'Goiter', 'Groin pain', 'Groin swelling', 'Hair loss', 'Hand numbness or tingling', 'Hand pain', 'Hand redness', 'Hand swelling', 'Headache', 'Heart palpitations']\n"
     ]
    }
   ],
   "source": [
    "print(ListOfWords)"
   ]
  },
  {
   "cell_type": "code",
   "execution_count": 31,
   "id": "b0aef921",
   "metadata": {},
   "outputs": [
    {
     "name": "stdout",
     "output_type": "stream",
     "text": [
      "[('Abdominal pain', 1), ('Abdominal redness', 1), ('Abdominal swelling', 1), ('Abnormal sweating', 1), ('Acne', 1), ('Allergy', 1), ('Anal Fissure', 1), ('Anal pain', 1), ('Anemia', 1), ('Anhedonia', 1)]\n"
     ]
    }
   ],
   "source": [
    "word_freq = {}  \n",
    "word_freq = Counter(words)\n",
    "print(word_freq.most_common()[0:10])"
   ]
  },
  {
   "cell_type": "code",
   "execution_count": 32,
   "id": "9ad74d9c",
   "metadata": {},
   "outputs": [],
   "source": [
    "probs = {}     \n",
    "Total = sum(word_freq.values())    \n",
    "for k in word_freq.keys():\n",
    "    probs[k] = word_freq[k]/Total"
   ]
  },
  {
   "cell_type": "code",
   "execution_count": 35,
   "id": "ca880dc4",
   "metadata": {},
   "outputs": [],
   "source": [
    "def my_autocorrect(input_word):\n",
    "    input_word = input_word.lower()\n",
    "    if input_word in V:\n",
    "        return('Your word seems to be correct')\n",
    "    else:\n",
    "        sim = [1-(textdistance.Jaccard(qval=2).distance(v,input_word)) for v in word_freq.keys()]\n",
    "        df = pd.DataFrame.from_dict(probs, orient='index').reset_index()\n",
    "        df = df.rename(columns={'index':'Word', 0:'Prob'})\n",
    "        df['Similarity'] = sim\n",
    "        output = df.sort_values(['Similarity', 'Prob'], ascending=False).head()\n",
    "        return(output)"
   ]
  },
  {
   "cell_type": "code",
   "execution_count": 36,
   "id": "b857efaa",
   "metadata": {},
   "outputs": [
    {
     "data": {
      "text/html": [
       "<div>\n",
       "<style scoped>\n",
       "    .dataframe tbody tr th:only-of-type {\n",
       "        vertical-align: middle;\n",
       "    }\n",
       "\n",
       "    .dataframe tbody tr th {\n",
       "        vertical-align: top;\n",
       "    }\n",
       "\n",
       "    .dataframe thead th {\n",
       "        text-align: right;\n",
       "    }\n",
       "</style>\n",
       "<table border=\"1\" class=\"dataframe\">\n",
       "  <thead>\n",
       "    <tr style=\"text-align: right;\">\n",
       "      <th></th>\n",
       "      <th>Word</th>\n",
       "      <th>Prob</th>\n",
       "      <th>Similarity</th>\n",
       "    </tr>\n",
       "  </thead>\n",
       "  <tbody>\n",
       "    <tr>\n",
       "      <th>106</th>\n",
       "      <td>Hair loss</td>\n",
       "      <td>0.00885</td>\n",
       "      <td>0.142857</td>\n",
       "    </tr>\n",
       "    <tr>\n",
       "      <th>66</th>\n",
       "      <td>Eye floaters</td>\n",
       "      <td>0.00885</td>\n",
       "      <td>0.117647</td>\n",
       "    </tr>\n",
       "    <tr>\n",
       "      <th>83</th>\n",
       "      <td>Fever</td>\n",
       "      <td>0.00885</td>\n",
       "      <td>0.090909</td>\n",
       "    </tr>\n",
       "    <tr>\n",
       "      <th>21</th>\n",
       "      <td>Bad or bitter taste</td>\n",
       "      <td>0.00885</td>\n",
       "      <td>0.083333</td>\n",
       "    </tr>\n",
       "    <tr>\n",
       "      <th>103</th>\n",
       "      <td>Goiter</td>\n",
       "      <td>0.00885</td>\n",
       "      <td>0.083333</td>\n",
       "    </tr>\n",
       "  </tbody>\n",
       "</table>\n",
       "</div>"
      ],
      "text/plain": [
       "                    Word     Prob  Similarity\n",
       "106            Hair loss  0.00885    0.142857\n",
       "66          Eye floaters  0.00885    0.117647\n",
       "83                 Fever  0.00885    0.090909\n",
       "21   Bad or bitter taste  0.00885    0.083333\n",
       "103               Goiter  0.00885    0.083333"
      ]
     },
     "execution_count": 36,
     "metadata": {},
     "output_type": "execute_result"
    }
   ],
   "source": [
    "my_autocorrect('haerlosad')"
   ]
  },
  {
   "cell_type": "code",
   "execution_count": null,
   "id": "15da25b6",
   "metadata": {},
   "outputs": [],
   "source": []
  }
 ],
 "metadata": {
  "kernelspec": {
   "display_name": "Python 3 (ipykernel)",
   "language": "python",
   "name": "python3"
  },
  "language_info": {
   "codemirror_mode": {
    "name": "ipython",
    "version": 3
   },
   "file_extension": ".py",
   "mimetype": "text/x-python",
   "name": "python",
   "nbconvert_exporter": "python",
   "pygments_lexer": "ipython3",
   "version": "3.9.13"
  }
 },
 "nbformat": 4,
 "nbformat_minor": 5
}

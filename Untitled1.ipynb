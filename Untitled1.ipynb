{
 "cells": [
  {
   "cell_type": "code",
   "execution_count": 61,
   "id": "fa6d7b02",
   "metadata": {},
   "outputs": [
    {
     "name": "stdout",
     "output_type": "stream",
     "text": [
      "{'Name': 'Bradley Fullerton', 'Age': 12, 'Grade': 7, 'Hobbies': ['Gaming', 'Basket Ball', 'Rugby', 'Skiing', 'Swimming'], 'Future Ambition': 'Basket ball - Player'}\n"
     ]
    }
   ],
   "source": [
    "info = {\n",
    "    \"Name\" : \"Bradley Fullerton\",\n",
    "    \"Age\" : 12,\n",
    "    \"Grade\" : 7,\n",
    "    \"Hobbies\" : [\"Gaming\" , \"Basket Ball\" , \"Rugby\" \n",
    "                 , \"Skiing\" , \"Swimming\"],\n",
    "    \"Future Ambition\" : \"Basket ball - Player\",\n",
    "}\n",
    "\n",
    "print(info)"
   ]
  },
  {
   "cell_type": "code",
   "execution_count": 62,
   "id": "b04ede20",
   "metadata": {},
   "outputs": [
    {
     "name": "stdout",
     "output_type": "stream",
     "text": [
      "Bradley Fullerton\n"
     ]
    }
   ],
   "source": [
    "print(info['Name'])"
   ]
  },
  {
   "cell_type": "code",
   "execution_count": 64,
   "id": "e5b35168",
   "metadata": {},
   "outputs": [
    {
     "name": "stdout",
     "output_type": "stream",
     "text": [
      "Gaming\n"
     ]
    }
   ],
   "source": [
    "print(info['Hobbies'][0])"
   ]
  },
  {
   "cell_type": "code",
   "execution_count": 65,
   "id": "d8b10348",
   "metadata": {},
   "outputs": [
    {
     "data": {
      "text/plain": [
       "{'Name': 'Bradley Fullerton',\n",
       " 'Age': 12,\n",
       " 'Grade': 7,\n",
       " 'Hobbies': ['Gaming', 'Basket Ball', 'Rugby', 'Skiing', 'Swimming'],\n",
       " 'Future Ambition': 'Basket ball - Player'}"
      ]
     },
     "execution_count": 65,
     "metadata": {},
     "output_type": "execute_result"
    }
   ],
   "source": [
    "info"
   ]
  },
  {
   "cell_type": "code",
   "execution_count": 66,
   "id": "11b2a524",
   "metadata": {},
   "outputs": [
    {
     "data": {
      "text/plain": [
       "{'Name': 'Bradley Fullerton',\n",
       " 'Age': 12,\n",
       " 'Grade': 7,\n",
       " 'Hobbies': ['Gaming', 'Basket Ball', 'Rugby', 'Skiing', 'Swimming'],\n",
       " 'Future Ambition': None}"
      ]
     },
     "execution_count": 66,
     "metadata": {},
     "output_type": "execute_result"
    }
   ],
   "source": [
    "info['Future Ambition'] = None\n",
    "info"
   ]
  },
  {
   "cell_type": "code",
   "execution_count": 67,
   "id": "debb39be",
   "metadata": {},
   "outputs": [
    {
     "data": {
      "text/plain": [
       "{'Name': 'Bradley Fullerton',\n",
       " 'Age': 12,\n",
       " 'Grade': 7,\n",
       " 'Hobbies': ['Gaming', 'Basket Ball', 'Rugby', 'Skiing', 'Swimming'],\n",
       " 'Future Ambition': None,\n",
       " 'School': 'Jess'}"
      ]
     },
     "execution_count": 67,
     "metadata": {},
     "output_type": "execute_result"
    }
   ],
   "source": [
    "info['School'] = 'Jess'\n",
    "info"
   ]
  },
  {
   "cell_type": "code",
   "execution_count": 68,
   "id": "aaf9cb37",
   "metadata": {},
   "outputs": [],
   "source": [
    "del info['Future Ambition']"
   ]
  },
  {
   "cell_type": "code",
   "execution_count": 69,
   "id": "80fda2b8",
   "metadata": {},
   "outputs": [
    {
     "data": {
      "text/plain": [
       "{'Name': 'Bradley Fullerton',\n",
       " 'Age': 12,\n",
       " 'Grade': 7,\n",
       " 'Hobbies': ['Gaming', 'Basket Ball', 'Rugby', 'Skiing', 'Swimming'],\n",
       " 'School': 'Jess'}"
      ]
     },
     "execution_count": 69,
     "metadata": {},
     "output_type": "execute_result"
    }
   ],
   "source": [
    "info"
   ]
  },
  {
   "cell_type": "code",
   "execution_count": 70,
   "id": "78e99caa",
   "metadata": {},
   "outputs": [
    {
     "name": "stdout",
     "output_type": "stream",
     "text": [
      "5\n"
     ]
    }
   ],
   "source": [
    "print(len(info))"
   ]
  },
  {
   "cell_type": "code",
   "execution_count": 71,
   "id": "746dc26c",
   "metadata": {},
   "outputs": [
    {
     "name": "stdout",
     "output_type": "stream",
     "text": [
      "['__class__', '__class_getitem__', '__contains__', '__delattr__', '__delitem__', '__dir__', '__doc__', '__eq__', '__format__', '__ge__', '__getattribute__', '__getitem__', '__gt__', '__hash__', '__init__', '__init_subclass__', '__ior__', '__iter__', '__le__', '__len__', '__lt__', '__ne__', '__new__', '__or__', '__reduce__', '__reduce_ex__', '__repr__', '__reversed__', '__ror__', '__setattr__', '__setitem__', '__sizeof__', '__str__', '__subclasshook__', 'clear', 'copy', 'fromkeys', 'get', 'items', 'keys', 'pop', 'popitem', 'setdefault', 'update', 'values']\n"
     ]
    }
   ],
   "source": [
    "print(dir(dict))"
   ]
  },
  {
   "cell_type": "code",
   "execution_count": 72,
   "id": "0575fb01",
   "metadata": {},
   "outputs": [
    {
     "name": "stdout",
     "output_type": "stream",
     "text": [
      "{'jack': 12, 'mark': 12, 'rock': 12}\n"
     ]
    }
   ],
   "source": [
    "L = ['jack' , 'mark' , 'rock']\n",
    "age = 12\n",
    "d = dict.fromkeys(L,age)\n",
    "print(d)"
   ]
  },
  {
   "cell_type": "code",
   "execution_count": 73,
   "id": "85e84caf",
   "metadata": {},
   "outputs": [
    {
     "data": {
      "text/plain": [
       "{'Name': 'Bradley Fullerton',\n",
       " 'Age': 12,\n",
       " 'Grade': 7,\n",
       " 'Hobbies': ['Gaming', 'Basket Ball', 'Rugby', 'Skiing', 'Swimming'],\n",
       " 'School': 'Jess'}"
      ]
     },
     "execution_count": 73,
     "metadata": {},
     "output_type": "execute_result"
    }
   ],
   "source": [
    "info"
   ]
  },
  {
   "cell_type": "code",
   "execution_count": 75,
   "id": "9b7d89d9",
   "metadata": {},
   "outputs": [
    {
     "data": {
      "text/plain": [
       "'Bradley Fullerton'"
      ]
     },
     "execution_count": 75,
     "metadata": {},
     "output_type": "execute_result"
    }
   ],
   "source": [
    "info.get('Name')"
   ]
  },
  {
   "cell_type": "code",
   "execution_count": null,
   "id": "85c96577",
   "metadata": {},
   "outputs": [],
   "source": []
  }
 ],
 "metadata": {
  "kernelspec": {
   "display_name": "Python 3 (ipykernel)",
   "language": "python",
   "name": "python3"
  },
  "language_info": {
   "codemirror_mode": {
    "name": "ipython",
    "version": 3
   },
   "file_extension": ".py",
   "mimetype": "text/x-python",
   "name": "python",
   "nbconvert_exporter": "python",
   "pygments_lexer": "ipython3",
   "version": "3.9.13"
  }
 },
 "nbformat": 4,
 "nbformat_minor": 5
}

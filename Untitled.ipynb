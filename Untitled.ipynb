{
 "cells": [
  {
   "cell_type": "markdown",
   "id": "f9bf8e33",
   "metadata": {},
   "source": [
    "# Data Analysis"
   ]
  },
  {
   "cell_type": "code",
   "execution_count": 3,
   "id": "5b2fd908",
   "metadata": {},
   "outputs": [
    {
     "name": "stdout",
     "output_type": "stream",
     "text": [
      "The Total Lenght of the List is: 113\n"
     ]
    }
   ],
   "source": [
    "ListOfWords = ['Abdominal pain',\n",
    " 'Abdominal redness',\n",
    " 'Abdominal swelling',\n",
    " 'Abnormal sweating',\n",
    " 'Acne',\n",
    " 'Allergy',\n",
    " 'Anal Fissure',\n",
    " 'Anal pain',\n",
    " 'Anemia',\n",
    " 'Anhedonia',\n",
    " 'Ankle pain',\n",
    " 'Anxiety',\n",
    " 'Appendicitis',\n",
    " 'Arm pain',\n",
    " 'Arm swelling',\n",
    " 'Arm weakness',\n",
    " 'Armpit pain',\n",
    " 'Armpit swelling',\n",
    " 'Attention deficit',\n",
    " 'Back pain',\n",
    " 'Bad breath',\n",
    " 'Bad or bitter taste',\n",
    " 'Black or tarry stool',\n",
    " 'Bladder Infection (UTI)',\n",
    " 'Blood in stool',\n",
    " 'Blood in urine',\n",
    " 'Blurry vision',\n",
    " 'Bronchitis',\n",
    " 'Bulging eye',\n",
    " 'Burning or painful urination',\n",
    " 'Buttocks pain',\n",
    " 'Calf pain',\n",
    " 'Calf swelling',\n",
    " 'Cheek pain',\n",
    " 'Cheek swelling',\n",
    " 'Chest pain',\n",
    " 'Chills',\n",
    " 'Confusion',\n",
    " 'Constipation',\n",
    " 'Cool bluish skin',\n",
    " 'Cough',\n",
    " 'COVID-19',\n",
    " 'Decreased appetite',\n",
    " 'Decreased hearing',\n",
    " 'Decreased urination',\n",
    " 'Decreased vision',\n",
    " 'Dental pain',\n",
    " 'Diarrhea',\n",
    " 'Difficulty urinating',\n",
    " 'Dizziness',\n",
    " 'Drooping eyelid',\n",
    " 'Dry mouth',\n",
    " 'Dry mucous membranes',\n",
    " 'Dry skin',\n",
    " 'Ear discharge',\n",
    " 'Ear pain',\n",
    " 'Ear pressure',\n",
    " 'Ear swelling',\n",
    " 'Elbow pain',\n",
    " 'Emotional stress',\n",
    " 'Erectile dysfunction',\n",
    " 'Excessive thirst',\n",
    " 'Excessive urination',\n",
    " 'Eye deviation',\n",
    " 'Eye discharge',\n",
    " 'Eye dryness',\n",
    " 'Eye floaters',\n",
    " 'Eye Infection',\n",
    " 'Eye pain',\n",
    " 'Eye redness',\n",
    " 'Eyelid pain',\n",
    " 'Eyelid redness',\n",
    " 'Eyelid swelling',\n",
    " 'Facial droop',\n",
    " 'Facial lesions',\n",
    " 'Facial numbness or tingling',\n",
    " 'Facial pain',\n",
    " 'Facial swelling',\n",
    " 'Fainting (passing out)',\n",
    " 'Fatigue',\n",
    " 'Feeling cold',\n",
    " 'Feeling down',\n",
    " 'Feeling faint',\n",
    " 'Fever',\n",
    " 'Finger discoloration',\n",
    " 'Finger pain',\n",
    " 'Flank pain',\n",
    " 'Flashing lights in vision',\n",
    " 'Flatulence',\n",
    " 'Food Poisoning',\n",
    " 'Foot fungus',\n",
    " 'Foot numbness or tingling',\n",
    " 'Foot pain',\n",
    " 'Foot redness',\n",
    " 'Foot sores',\n",
    " 'Foot swelling',\n",
    " 'Forearm pain',\n",
    " 'Foreign body in the eye',\n",
    " 'Frequent burping',\n",
    " 'Frequent night urination',\n",
    " 'Frequent urination',\n",
    " 'Gastroenteritis',\n",
    " 'Genital lesions',\n",
    " 'Goiter',\n",
    " 'Groin pain',\n",
    " 'Groin swelling',\n",
    " 'Hair loss',\n",
    " 'Hand numbness or tingling',\n",
    " 'Hand pain',\n",
    " 'Hand redness',\n",
    " 'Hand swelling',\n",
    " 'Headache',\n",
    " 'Heart palpitations']\n",
    "\n",
    "\n",
    "print(\"The Total Lenght of the List is:\",len(ListOfWords))"
   ]
  },
  {
   "cell_type": "code",
   "execution_count": 8,
   "id": "9317dd8f",
   "metadata": {},
   "outputs": [
    {
     "data": {
      "text/plain": [
       "[['book'], ['boot']]"
      ]
     },
     "execution_count": 8,
     "metadata": {},
     "output_type": "execute_result"
    }
   ],
   "source": [
    "from fast_autocomplete import AutoComplete\n",
    "words = {'book': {}, 'burrito': {}, 'pizza': {}, 'pasta':{} , 'boot':{}}\n",
    "autocomplete = AutoComplete(words=words)\n",
    "autocomplete.search(word='boak', max_cost=3, size=3)"
   ]
  },
  {
   "cell_type": "code",
   "execution_count": 12,
   "id": "a0c28324",
   "metadata": {},
   "outputs": [
    {
     "name": "stdout",
     "output_type": "stream",
     "text": [
      "{'Abdominal pain': {}, 'Abdominal redness': {}, 'Abdominal swelling': {}, 'Abnormal sweating': {}, 'Acne': {}, 'Allergy': {}, 'Anal Fissure': {}, 'Anal pain': {}, 'Anemia': {}, 'Anhedonia': {}, 'Ankle pain': {}, 'Anxiety': {}, 'Appendicitis': {}, 'Arm pain': {}, 'Arm swelling': {}, 'Arm weakness': {}, 'Armpit pain': {}, 'Armpit swelling': {}, 'Attention deficit': {}, 'Back pain': {}, 'Bad breath': {}, 'Bad or bitter taste': {}, 'Black or tarry stool': {}, 'Bladder Infection (UTI)': {}, 'Blood in stool': {}, 'Blood in urine': {}, 'Blurry vision': {}, 'Bronchitis': {}, 'Bulging eye': {}, 'Burning or painful urination': {}, 'Buttocks pain': {}, 'Calf pain': {}, 'Calf swelling': {}, 'Cheek pain': {}, 'Cheek swelling': {}, 'Chest pain': {}, 'Chills': {}, 'Confusion': {}, 'Constipation': {}, 'Cool bluish skin': {}, 'Cough': {}, 'COVID-19': {}, 'Decreased appetite': {}, 'Decreased hearing': {}, 'Decreased urination': {}, 'Decreased vision': {}, 'Dental pain': {}, 'Diarrhea': {}, 'Difficulty urinating': {}, 'Dizziness': {}, 'Drooping eyelid': {}, 'Dry mouth': {}, 'Dry mucous membranes': {}, 'Dry skin': {}, 'Ear discharge': {}, 'Ear pain': {}, 'Ear pressure': {}, 'Ear swelling': {}, 'Elbow pain': {}, 'Emotional stress': {}, 'Erectile dysfunction': {}, 'Excessive thirst': {}, 'Excessive urination': {}, 'Eye deviation': {}, 'Eye discharge': {}, 'Eye dryness': {}, 'Eye floaters': {}, 'Eye Infection': {}, 'Eye pain': {}, 'Eye redness': {}, 'Eyelid pain': {}, 'Eyelid redness': {}, 'Eyelid swelling': {}, 'Facial droop': {}, 'Facial lesions': {}, 'Facial numbness or tingling': {}, 'Facial pain': {}, 'Facial swelling': {}, 'Fainting (passing out)': {}, 'Fatigue': {}, 'Feeling cold': {}, 'Feeling down': {}, 'Feeling faint': {}, 'Fever': {}, 'Finger discoloration': {}, 'Finger pain': {}, 'Flank pain': {}, 'Flashing lights in vision': {}, 'Flatulence': {}, 'Food Poisoning': {}, 'Foot fungus': {}, 'Foot numbness or tingling': {}, 'Foot pain': {}, 'Foot redness': {}, 'Foot sores': {}, 'Foot swelling': {}, 'Forearm pain': {}, 'Foreign body in the eye': {}, 'Frequent burping': {}, 'Frequent night urination': {}, 'Frequent urination': {}, 'Gastroenteritis': {}, 'Genital lesions': {}, 'Goiter': {}, 'Groin pain': {}, 'Groin swelling': {}, 'Hair loss': {}, 'Hand numbness or tingling': {}, 'Hand pain': {}, 'Hand redness': {}, 'Hand swelling': {}, 'Headache': {}, 'Heart palpitations': {}}\n"
     ]
    }
   ],
   "source": [
    "words = {}\n",
    "\n",
    "for word in ListOfWords:\n",
    "    words[word] = {}\n",
    "        \n",
    "print(words)"
   ]
  },
  {
   "cell_type": "code",
   "execution_count": 16,
   "id": "9130876c",
   "metadata": {},
   "outputs": [
    {
     "data": {
      "text/plain": [
       "[['Arm pain'], ['Armpit pain'], ['Arm swelling']]"
      ]
     },
     "execution_count": 16,
     "metadata": {},
     "output_type": "execute_result"
    }
   ],
   "source": [
    "autocomplete = AutoComplete(words=words)\n",
    "autocomplete.search(word='arm', max_cost=3, size=3)"
   ]
  },
  {
   "cell_type": "code",
   "execution_count": null,
   "id": "c4fb9fd6",
   "metadata": {},
   "outputs": [],
   "source": []
  }
 ],
 "metadata": {
  "kernelspec": {
   "display_name": "Python 3 (ipykernel)",
   "language": "python",
   "name": "python3"
  },
  "language_info": {
   "codemirror_mode": {
    "name": "ipython",
    "version": 3
   },
   "file_extension": ".py",
   "mimetype": "text/x-python",
   "name": "python",
   "nbconvert_exporter": "python",
   "pygments_lexer": "ipython3",
   "version": "3.9.13"
  }
 },
 "nbformat": 4,
 "nbformat_minor": 5
}
